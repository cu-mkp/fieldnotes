{
 "cells": [
  {
   "cell_type": "code",
   "execution_count": 1,
   "metadata": {},
   "outputs": [],
   "source": [
    "import os\n",
    "import pandas as pd\n",
    "import re\n",
    "import urllib.request\n",
    "from urllib.error import HTTPError\n",
    "\n",
    "# Setup\n",
    "\n",
    "target_website = 'google.com' # the website to look for when filtering down hrefs\n",
    "\n",
    "cwd = os.getcwd()\n",
    "#m_path = cwd if 'manuscript-object' not in cwd else f'{cwd}/../'\n",
    "m_path = cwd if 'manuscript-object' in cwd else f'{cwd}/manuscript-object/'\n",
    "fieldnotes_path = f'{m_path}/fieldnotes/FA18+other-fieldnotes-list+links.csv'\n",
    "out_path = f'{m_path}/fieldnotes/fieldnotes_hrefs.csv'\n",
    "\n",
    "url_column = 'full-html'\n",
    "hrefs_column = 'references'\n",
    "\n",
    "re_href = re.compile(r'<a href=\"(https?://.*?)\".*?>') # regex to find http hrefs in a block of html\n",
    "#re_href = re.compile(r'<a href=\"(.*?)\".*?>') # regex to find hrefs in a block of html (not necessarily web links)"
   ]
  },
  {
   "cell_type": "code",
   "execution_count": 2,
   "metadata": {},
   "outputs": [],
   "source": [
    "# Script:\n",
    "def find_hrefs_from_url(url:str, regex, target='') -> str:\n",
    "    try:\n",
    "        page = urllib.request.urlopen(url) # open url\n",
    "    except HTTPError:\n",
    "        return 'url not found'\n",
    "    except ValueError:\n",
    "        return 'not a valid web address'\n",
    "    \n",
    "    page_text = page.read().decode('utf-8') # decode to text\n",
    "    \n",
    "    matches = [href for href in regex.findall(page_text) if target in href] # get hrefs linking to target\n",
    "    \n",
    "    if not matches:\n",
    "        return 'none'     # if target nowhere in that url, return 'none'\n",
    "    else:\n",
    "        return ','.join(matches)  # otherwise return a string containing each href separated by commas"
   ]
  },
  {
   "cell_type": "code",
   "execution_count": 3,
   "metadata": {},
   "outputs": [],
   "source": [
    "fieldnotes = pd.read_csv(fieldnotes_path)"
   ]
  },
  {
   "cell_type": "code",
   "execution_count": 7,
   "metadata": {},
   "outputs": [],
   "source": [
    "fieldnotes[hrefs_column] = fieldnotes[url_column].apply(lambda url: find_hrefs_from_url(url, re_href, target=target_website))"
   ]
  },
  {
   "cell_type": "code",
   "execution_count": 6,
   "metadata": {},
   "outputs": [
    {
     "data": {
      "text/plain": [
       "['url not found',\n",
       " 'url not found',\n",
       " 'url not found',\n",
       " 'url not found',\n",
       " 'url not found']"
      ]
     },
     "execution_count": 6,
     "metadata": {},
     "output_type": "execute_result"
    }
   ],
   "source": [
    "#temp = [len(url) for url in fieldnotes[hrefs_column]]\n",
    "#fieldnotes[url_column][temp.index(max(temp))]\n"
   ]
  },
  {
   "cell_type": "code",
   "execution_count": 99,
   "metadata": {},
   "outputs": [],
   "source": [
    "fieldnotes.to_csv(out_path, index=False)"
   ]
  }
 ],
 "metadata": {
  "kernelspec": {
   "display_name": "Python 3.7.4 64-bit",
   "language": "python",
   "name": "python37464bitd1f438d1876f44549e9f31c994f2ef25"
  },
  "language_info": {
   "codemirror_mode": {
    "name": "ipython",
    "version": 3
   },
   "file_extension": ".py",
   "mimetype": "text/x-python",
   "name": "python",
   "nbconvert_exporter": "python",
   "pygments_lexer": "ipython3",
   "version": "3.7.4"
  }
 },
 "nbformat": 4,
 "nbformat_minor": 4
}
